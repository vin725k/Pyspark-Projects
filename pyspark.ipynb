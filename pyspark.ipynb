{
 "cells": [
  {
   "cell_type": "code",
   "execution_count": 2,
   "id": "frank-appearance",
   "metadata": {},
   "outputs": [],
   "source": [
    "import pandas as pd\n",
    "import numpy as np\n",
    "import matplotlib.pyplot as plt\n",
    "import seaborn as sns"
   ]
  },
  {
   "cell_type": "code",
   "execution_count": 4,
   "id": "checked-medicare",
   "metadata": {},
   "outputs": [],
   "source": [
    "import pyspark\n",
    "from pyspark.rdd import RDD\n",
    "from pyspark.sql import Row\n",
    "from pyspark.sql import DataFrame\n",
    "from pyspark.sql import SparkSession\n",
    "from pyspark.sql import SQLContext\n",
    "from pyspark.sql import functions"
   ]
  },
  {
   "cell_type": "code",
   "execution_count": 5,
   "id": "adjacent-killer",
   "metadata": {},
   "outputs": [],
   "source": [
    "from pyspark.sql.functions import lit, desc, col, size, array_contains\\\n",
    ", isnan, udf, hour, array_min, array_max, countDistinct\n",
    "from pyspark.sql.types import *\n",
    "\n",
    "from pyspark.ml  import Pipeline     \n",
    "from pyspark.sql.functions import mean,col,split, col, regexp_extract, when, lit"
   ]
  },
  {
   "cell_type": "code",
   "execution_count": 7,
   "id": "affiliated-public",
   "metadata": {},
   "outputs": [],
   "source": [
    "from pyspark.sql import SparkSession\n",
    "from pyspark.sql.types import *\n",
    "\n",
    "#create session in order to be capable of accessing all Spark API\n",
    "spark = SparkSession \\\n",
    "    .builder \\\n",
    "    .appName(\"Purchase\") \\\n",
    "    .config(\"spark.some.config.option\", \"some-value\") \\\n",
    "    .getOrCreate()"
   ]
  },
  {
   "cell_type": "code",
   "execution_count": 10,
   "id": "documented-nudist",
   "metadata": {},
   "outputs": [],
   "source": [
    "customerDataframe = spark.read.csv(\n",
    "    \"D:/kt/datasets/customer_data/Mall_Customers.csv\", \n",
    "    header=True)"
   ]
  },
  {
   "cell_type": "code",
   "execution_count": 11,
   "id": "silent-mistake",
   "metadata": {},
   "outputs": [
    {
     "name": "stdout",
     "output_type": "stream",
     "text": [
      "+----------+------+---+------------------+--------------+\n",
      "|CustomerID| Genre|Age|Annual_Income_(k$)|Spending_Score|\n",
      "+----------+------+---+------------------+--------------+\n",
      "|         1|  Male| 19|                15|            39|\n",
      "|         2|  Male| 21|                15|            81|\n",
      "|         3|Female| 20|                16|             6|\n",
      "+----------+------+---+------------------+--------------+\n",
      "only showing top 3 rows\n",
      "\n"
     ]
    }
   ],
   "source": [
    "customerDataframe.show(3)"
   ]
  },
  {
   "cell_type": "code",
   "execution_count": 12,
   "id": "beneficial-portrait",
   "metadata": {},
   "outputs": [
    {
     "name": "stdout",
     "output_type": "stream",
     "text": [
      "number of rows:  200\n"
     ]
    }
   ],
   "source": [
    "#count number of rows of our dataFrame\n",
    "num_rows = customerDataframe.count()\n",
    "print(\"number of rows: \", num_rows)"
   ]
  },
  {
   "cell_type": "code",
   "execution_count": 13,
   "id": "amino-rendering",
   "metadata": {},
   "outputs": [
    {
     "name": "stdout",
     "output_type": "stream",
     "text": [
      "root\n",
      " |-- CustomerID: string (nullable = true)\n",
      " |-- Genre: string (nullable = true)\n",
      " |-- Age: string (nullable = true)\n",
      " |-- Annual_Income_(k$): string (nullable = true)\n",
      " |-- Spending_Score: string (nullable = true)\n",
      "\n"
     ]
    }
   ],
   "source": [
    "#show our dataFrame schema\n",
    "customerDataframe.printSchema()"
   ]
  },
  {
   "cell_type": "code",
   "execution_count": 15,
   "id": "lonely-force",
   "metadata": {},
   "outputs": [
    {
     "name": "stdout",
     "output_type": "stream",
     "text": [
      "+-------+------------------+\n",
      "|summary|    Spending_Score|\n",
      "+-------+------------------+\n",
      "|  count|               200|\n",
      "|   mean|              50.2|\n",
      "| stddev|25.823521668370173|\n",
      "|    min|                 1|\n",
      "|    max|                99|\n",
      "+-------+------------------+\n",
      "\n"
     ]
    }
   ],
   "source": [
    "#show statistic of the data we want\n",
    "customerDataframe.describe('Spending_Score').show()"
   ]
  },
  {
   "cell_type": "code",
   "execution_count": 16,
   "id": "further-camera",
   "metadata": {},
   "outputs": [
    {
     "data": {
      "text/plain": [
       "2"
      ]
     },
     "execution_count": 16,
     "metadata": {},
     "output_type": "execute_result"
    }
   ],
   "source": [
    "customerDataframe.select('Genre').distinct().count()"
   ]
  },
  {
   "cell_type": "code",
   "execution_count": 17,
   "id": "geographic-checkout",
   "metadata": {},
   "outputs": [
    {
     "name": "stdout",
     "output_type": "stream",
     "text": [
      "+------+---+\n",
      "| Genre|Age|\n",
      "+------+---+\n",
      "|  Male| 19|\n",
      "|  Male| 21|\n",
      "|Female| 20|\n",
      "|Female| 23|\n",
      "|Female| 31|\n",
      "+------+---+\n",
      "only showing top 5 rows\n",
      "\n",
      "=========================\n",
      "root\n",
      " |-- Genre: string (nullable = true)\n",
      " |-- Age: string (nullable = true)\n",
      "\n"
     ]
    }
   ],
   "source": [
    "#create new dataFrame from \"City\" and \"Total\" columns\n",
    "newDataframe = customerDataframe.select(customerDataframe['Genre'], \n",
    "                                              customerDataframe['Age'])\n",
    "\n",
    "# top 10 rows \n",
    "newDataframe.show(5); \n",
    "\n",
    "print('=========================')\n",
    "# schema of dataframe\n",
    "newDataframe.printSchema() "
   ]
  },
  {
   "cell_type": "code",
   "execution_count": 18,
   "id": "annual-kentucky",
   "metadata": {},
   "outputs": [
    {
     "name": "stdout",
     "output_type": "stream",
     "text": [
      "+----------+------+---+------------------+--------------+\n",
      "|CustomerID| Genre|Age|Annual_Income_(k$)|Spending_Score|\n",
      "+----------+------+---+------------------+--------------+\n",
      "|         1|  Male| 19|                15|            39|\n",
      "|         2|  Male| 21|                15|            81|\n",
      "|         4|Female| 23|                16|            77|\n",
      "|         5|Female| 31|                17|            40|\n",
      "|         6|Female| 22|                17|            76|\n",
      "+----------+------+---+------------------+--------------+\n",
      "only showing top 5 rows\n",
      "\n"
     ]
    }
   ],
   "source": [
    "#filter only row data whose \"Total\" column value > 300\n",
    "customerDataframe.filter(customerDataframe['Spending_Score'] > 30).show(5)"
   ]
  },
  {
   "cell_type": "code",
   "execution_count": 19,
   "id": "harmful-plate",
   "metadata": {},
   "outputs": [
    {
     "name": "stdout",
     "output_type": "stream",
     "text": [
      "+----------+------+---+------------------+--------------+\n",
      "|CustomerID| Genre|Age|Annual_Income_(k$)|Spending_Score|\n",
      "+----------+------+---+------------------+--------------+\n",
      "|        66|  Male| 18|                48|            59|\n",
      "|        92|  Male| 18|                59|            41|\n",
      "|        34|  Male| 18|                33|            92|\n",
      "|       115|Female| 18|                65|            48|\n",
      "|        69|  Male| 19|                48|            59|\n",
      "|       112|Female| 19|                63|            54|\n",
      "|         1|  Male| 19|                15|            39|\n",
      "|       114|  Male| 19|                64|            46|\n",
      "|       116|Female| 19|                65|            50|\n",
      "|        62|  Male| 19|                46|            55|\n",
      "+----------+------+---+------------------+--------------+\n",
      "only showing top 10 rows\n",
      "\n"
     ]
    }
   ],
   "source": [
    "# sorting dataframe by Age\n",
    "sortedByAge = customerDataframe.orderBy('Age').show(10)"
   ]
  },
  {
   "cell_type": "code",
   "execution_count": 20,
   "id": "corresponding-superintendent",
   "metadata": {},
   "outputs": [
    {
     "name": "stdout",
     "output_type": "stream",
     "text": [
      "+---+-----+\n",
      "|Age|count|\n",
      "+---+-----+\n",
      "| 51|    2|\n",
      "| 54|    4|\n",
      "| 29|    5|\n",
      "| 69|    1|\n",
      "| 42|    2|\n",
      "+---+-----+\n",
      "only showing top 5 rows\n",
      "\n"
     ]
    }
   ],
   "source": [
    "numTransactionEachAge = customerDataframe.groupBy(\"Age\").count()\n",
    "numTransactionEachAge.show(5)"
   ]
  },
  {
   "cell_type": "code",
   "execution_count": 21,
   "id": "neural-offset",
   "metadata": {},
   "outputs": [
    {
     "data": {
      "text/plain": [
       "DataFrame[Age_customer: int]"
      ]
     },
     "execution_count": 21,
     "metadata": {},
     "output_type": "execute_result"
    }
   ],
   "source": [
    "from pyspark.sql.types import IntegerType,BooleanType,DateType\n"
   ]
  },
  {
   "cell_type": "code",
   "execution_count": 24,
   "id": "planned-insurance",
   "metadata": {},
   "outputs": [
    {
     "name": "stdout",
     "output_type": "stream",
     "text": [
      "root\n",
      " |-- CustomerID: string (nullable = true)\n",
      " |-- Genre: string (nullable = true)\n",
      " |-- Age: float (nullable = true)\n",
      " |-- Annual_Income_(k$): string (nullable = true)\n",
      " |-- Spending_Score: string (nullable = true)\n",
      "\n"
     ]
    }
   ],
   "source": [
    "df = customerDataframe.withColumn(\"Age\", \n",
    "                                  customerDataframe[\"Age\"]\n",
    "                                  .cast('float'))\n",
    "df.printSchema()"
   ]
  },
  {
   "cell_type": "code",
   "execution_count": 25,
   "id": "another-position",
   "metadata": {},
   "outputs": [
    {
     "name": "stdout",
     "output_type": "stream",
     "text": [
      "Mean total: 38.85\n"
     ]
    }
   ],
   "source": [
    "meanTotal = df.groupBy().avg(\"Age\").take(1)[0][0]\n",
    "print('Mean total:',meanTotal)"
   ]
  },
  {
   "cell_type": "code",
   "execution_count": null,
   "id": "hawaiian-logic",
   "metadata": {},
   "outputs": [],
   "source": []
  }
 ],
 "metadata": {
  "kernelspec": {
   "display_name": "Python 3",
   "language": "python",
   "name": "python3"
  },
  "language_info": {
   "codemirror_mode": {
    "name": "ipython",
    "version": 3
   },
   "file_extension": ".py",
   "mimetype": "text/x-python",
   "name": "python",
   "nbconvert_exporter": "python",
   "pygments_lexer": "ipython3",
   "version": "3.8.5"
  }
 },
 "nbformat": 4,
 "nbformat_minor": 5
}
